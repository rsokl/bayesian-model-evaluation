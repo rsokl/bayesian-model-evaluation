{
 "cells": [
  {
   "cell_type": "markdown",
   "metadata": {},
   "source": [
    "# Metropolis Hastings"
   ]
  },
  {
   "cell_type": "code",
   "execution_count": 1,
   "metadata": {},
   "outputs": [],
   "source": [
    "import numpy as np\n",
    "from typing import Callable, List, Tuple\n",
    "from scipy import stats\n",
    "\n",
    "try:\n",
    "    from jupyterthemes import jtplot\n",
    "    jtplot.style()\n",
    "except ImportError:\n",
    "    pass\n",
    "\n",
    "import matplotlib.pyplot as plt\n",
    "%matplotlib inline"
   ]
  },
  {
   "cell_type": "code",
   "execution_count": 8,
   "metadata": {},
   "outputs": [],
   "source": [
    "def metropolis_hastings(\n",
    "    n_samples: int,\n",
    "    pdf: Callable[[np.ndarray], np.ndarray],\n",
    "    ensemble_size: int = 1,\n",
    "    proposal_mean: float = 0.0,\n",
    "    proposal_std: float = 1.0,\n",
    ") -> np.ndarray:\n",
    "    \"\"\"Runs metropolis hastings to perform ensemble-sampling on a distribution\n",
    "    \n",
    "    Parameters\n",
    "    ----------\n",
    "    n_samples : int\n",
    "        The number of samples to be drawn for each sequence in the ensemble.\n",
    "    \n",
    "    pdf: Callable[[ndarray], ndarray]\n",
    "        The norm-independent pdf for the distribution being sampled from.\n",
    "    \n",
    "    ensemble_size : int, optional (default=1)\n",
    "        The number of independent sequences of samples to be drawn.\n",
    "    \n",
    "    Returns\n",
    "    -------\n",
    "    numpy.ndarraym shape=(N_ensemble, N_samples)\n",
    "        The ensemble of sample-sequences drawn.\"\"\"\n",
    "\n",
    "    position = np.full(fill_value=proposal_mean, dtype=float, shape=(ensemble_size,))\n",
    "    samples = np.empty(dtype=float, shape=(ensemble_size, n_samples))\n",
    "\n",
    "    for sample_index in range(n_samples):\n",
    "        proposal = np.random.normal(\n",
    "            loc=position, scale=proposal_std, size=ensemble_size\n",
    "        )\n",
    "        accept_probs = pdf(proposal) / pdf(position)\n",
    "        accepted = np.random.rand(ensemble_size) < accept_probs\n",
    "        position[accepted] = proposal[accepted]\n",
    "        samples[..., sample_index] = np.copy(position)\n",
    "    return np.array(samples)\n",
    "\n",
    "\n",
    "def ecdf(data: np.ndarray) -> Tuple[np.ndarray, np.ndarray]:\n",
    "    y = np.linspace(1 / len(data), 1, len(data))\n",
    "    x = np.sort(data)\n",
    "    return x, y"
   ]
  },
  {
   "cell_type": "code",
   "execution_count": 72,
   "metadata": {},
   "outputs": [],
   "source": [
    "ensemble_size = 10\n",
    "n_samples = 1000\n",
    "\n",
    "distr = stats.expon(loc=10, scale=1.)\n",
    "\n",
    "samples = metropolis_hastings(\n",
    "    n_samples,\n",
    "    distr.pdf,\n",
    "    ensemble_size=ensemble_size,\n",
    "    proposal_mean=distr.mean(),\n",
    "    proposal_std=distr.std(),\n",
    ")\n",
    "true_samples = distr.rvs(10000)"
   ]
  },
  {
   "cell_type": "markdown",
   "metadata": {},
   "source": [
    "## Animating Evolution of Metropolis Hastings ECDFs with Number of Samples"
   ]
  },
  {
   "cell_type": "code",
   "execution_count": 75,
   "metadata": {},
   "outputs": [
    {
     "data": {
      "application/vnd.jupyter.widget-view+json": {
       "model_id": "eb26d25a31b44512872f8877fbe2a606",
       "version_major": 2,
       "version_minor": 0
      },
      "text/plain": [
       "interactive(children=(IntSlider(value=1, description='num_pts', max=1000, min=1, step=10), Output()), _dom_cla…"
      ]
     },
     "metadata": {},
     "output_type": "display_data"
    }
   ],
   "source": [
    "from ipywidgets import interact\n",
    "from ipywidgets import Select, IntSlider\n",
    "\n",
    "true_ecdf = ecdf(true_samples)\n",
    "\n",
    "\n",
    "def animate_MCMC_ecdfs(num_pts: list):\n",
    "    \n",
    "    fig, ax = plt.subplots()\n",
    "    for run in samples:\n",
    "        ax.plot(*ecdf(run[:num_pts]))\n",
    "    ax.plot(*true_ecdf, lw=3, ls=\"--\", color=\"white\")\n",
    "    \n",
    "\n",
    "num_pts_select = IntSlider(\n",
    "    min=1, max=samples.shape[1], step=10)\n",
    "\n",
    "\n",
    "interact(animate_MCMC_ecdfs, num_pts=num_pts_select);"
   ]
  },
  {
   "cell_type": "markdown",
   "metadata": {},
   "source": [
    "# Just Plot It :(\n"
   ]
  },
  {
   "cell_type": "code",
   "execution_count": 69,
   "metadata": {},
   "outputs": [
    {
     "data": {
      "image/png": "[encoded data removed]",
      "text/plain": [
       "<Figure size 432x288 with 1 Axes>"
      ]
     },
     "metadata": {
      "needs_background": "dark"
     },
     "output_type": "display_data"
    }
   ],
   "source": [
    "fig, ax = plt.subplots()\n",
    "for run in samples:\n",
    "    ax.plot(*ecdf(run))\n",
    "#ax.plot(*ecdf(true_samples), lw=3, ls=\"--\", color=\"white\")\n",
    "\n"
   ]
  },
  {
   "cell_type": "code",
   "execution_count": null,
   "metadata": {},
   "outputs": [],
   "source": []
  }
 ],
 "metadata": {
  "kernelspec": {
   "display_name": "Python [conda env:bayesian-modelling-tutorial]",
   "language": "python",
   "name": "conda-env-bayesian-modelling-tutorial-py"
  },
  "language_info": {
   "codemirror_mode": {
    "name": "ipython",
    "version": 3
   },
   "file_extension": ".py",
   "mimetype": "text/x-python",
   "name": "python",
   "nbconvert_exporter": "python",
   "pygments_lexer": "ipython3",
   "version": "3.7.3"
  }
 },
 "nbformat": 4,
 "nbformat_minor": 2
}
